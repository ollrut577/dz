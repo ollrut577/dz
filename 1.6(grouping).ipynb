{
 "cells": [
  {
   "cell_type": "code",
   "execution_count": 34,
   "id": "1c2d2d41",
   "metadata": {},
   "outputs": [
    {
     "name": "stdout",
     "output_type": "stream",
     "text": [
      "Введите строку со скобками: ((()))(())()()(()())\n",
      "['((()))', '(())', '()', '()', '(()())']\n"
     ]
    }
   ],
   "source": [
    "string = str(input(\"Введите строку со скобками: \"))\n",
    "\n",
    "def group(string):\n",
    "    result=[]\n",
    "    c = ''\n",
    "    k = 0 \n",
    "    for i in string:\n",
    "        if i == \"(\":\n",
    "            c +=  i\n",
    "            k += 1\n",
    "        elif i == \")\": \n",
    "            c += \")\"\n",
    "            k -= 1 \n",
    "            if k == 0:\n",
    "                result.append(c)\n",
    "                c = ''\n",
    "                    \n",
    "    return result \n",
    "\n",
    "print(group(string))"
   ]
  }
 ],
 "metadata": {
  "kernelspec": {
   "display_name": "Python 3 (ipykernel)",
   "language": "python",
   "name": "python3"
  },
  "language_info": {
   "codemirror_mode": {
    "name": "ipython",
    "version": 3
   },
   "file_extension": ".py",
   "mimetype": "text/x-python",
   "name": "python",
   "nbconvert_exporter": "python",
   "pygments_lexer": "ipython3",
   "version": "3.9.5"
  }
 },
 "nbformat": 4,
 "nbformat_minor": 5
}
