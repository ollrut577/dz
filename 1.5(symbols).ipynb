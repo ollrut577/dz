{
 "cells": [
  {
   "cell_type": "code",
   "execution_count": 19,
   "id": "d7389d71",
   "metadata": {},
   "outputs": [
    {
     "name": "stdout",
     "output_type": "stream",
     "text": [
      "Введите первую строку: abcde\n",
      "Введите вторую строку: efgij\n",
      "(['e'], ['a', 'b', 'c', 'd'], ['f', 'g', 'i', 'j'])\n"
     ]
    }
   ],
   "source": [
    "string1 = str(input(\"Введите первую строку: \"))\n",
    "string2 = str(input(\"Введите вторую строку: \"))\n",
    "\n",
    "def symb(string1,string2):\n",
    "    #нахождение общих символов двух строк \n",
    "    general =[]\n",
    "    uniq =[]\n",
    "    uniq1 = []\n",
    "    uniq2 =[]\n",
    "    general = list(set(string1)&set(string2))\n",
    "    #нахождение уникальных элементов двух строк\n",
    "    uniq = list(set(string1)^set(string2))\n",
    "    #нахождение уникальных элементов каждой строки\n",
    "    a = list(string1)\n",
    "    for i in a:\n",
    "        if i in uniq:\n",
    "            uniq1.append(i)\n",
    "    b = list(string2)\n",
    "    for i in b:\n",
    "        if i in uniq:\n",
    "            uniq2.append(i)\n",
    "         \n",
    "    return general,uniq1,uniq2\n",
    "\n",
    "print(symb(string1,string2))"
   ]
  }
 ],
 "metadata": {
  "kernelspec": {
   "display_name": "Python 3 (ipykernel)",
   "language": "python",
   "name": "python3"
  },
  "language_info": {
   "codemirror_mode": {
    "name": "ipython",
    "version": 3
   },
   "file_extension": ".py",
   "mimetype": "text/x-python",
   "name": "python",
   "nbconvert_exporter": "python",
   "pygments_lexer": "ipython3",
   "version": "3.9.5"
  }
 },
 "nbformat": 4,
 "nbformat_minor": 5
}
