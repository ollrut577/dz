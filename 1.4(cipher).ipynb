{
 "cells": [
  {
   "cell_type": "code",
   "execution_count": 15,
   "id": "d0a89fa0",
   "metadata": {},
   "outputs": [
    {
     "name": "stdout",
     "output_type": "stream",
     "text": [
      "Введите n: 2\n",
      "cde\n"
     ]
    }
   ],
   "source": [
    "alfavit =  'abcdefghijklmnopqrstuvwxyz'\n",
    "string = 'abc'\n",
    "n = int(input(\"Введите n: \"))\n",
    "\n",
    "#Функция шифровки \n",
    "def cipher(string,n):\n",
    "    result1 = ''\n",
    "    for i in string: \n",
    "        displace = alfavit.index(i) + n \n",
    "        if i in alfavit:\n",
    "            result1 += alfavit[displace]\n",
    "        else: \n",
    "            result1 += i \n",
    "    return result1 \n",
    "\n",
    "print(cipher(string,n))\n",
    "result1 = cipher(string,n)\n",
    "    "
   ]
  },
  {
   "cell_type": "code",
   "execution_count": 16,
   "id": "0548fd4c",
   "metadata": {},
   "outputs": [
    {
     "name": "stdout",
     "output_type": "stream",
     "text": [
      "abc\n"
     ]
    }
   ],
   "source": [
    "#функция дешифровки \n",
    "def decipher(result1,n): \n",
    "    result2 = ''\n",
    "    for i in result1: \n",
    "        displace = alfavit.index(i) - n \n",
    "        if i in alfavit:\n",
    "            result2 += alfavit[displace]\n",
    "        else: \n",
    "            result2 += i \n",
    "    return result2\n",
    "\n",
    "print(decipher(result1,n))"
   ]
  }
 ],
 "metadata": {
  "kernelspec": {
   "display_name": "Python 3 (ipykernel)",
   "language": "python",
   "name": "python3"
  },
  "language_info": {
   "codemirror_mode": {
    "name": "ipython",
    "version": 3
   },
   "file_extension": ".py",
   "mimetype": "text/x-python",
   "name": "python",
   "nbconvert_exporter": "python",
   "pygments_lexer": "ipython3",
   "version": "3.9.5"
  }
 },
 "nbformat": 4,
 "nbformat_minor": 5
}
